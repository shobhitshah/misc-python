{
 "cells": [
  {
   "cell_type": "code",
   "execution_count": 1,
   "metadata": {},
   "outputs": [],
   "source": [
    "import pandas as pd\n",
    "import matplotlib.pyplot as plt\n"
   ]
  },
  {
   "cell_type": "code",
   "execution_count": null,
   "metadata": {},
   "outputs": [],
   "source": [
    "train=pd.read_csv(\"tacticalrisk.log\")\n",
    "\n",
    "print(\"Print the `head` of the train dataframe\")\n",
    "print(train.head())\n"
   ]
  },
  {
   "cell_type": "markdown",
   "metadata": {},
   "source": [
    "$ cat -evt tacticalrisk.log\n",
    "2018-11-26 7:57:42.300 some text, berate=2.3456%, some more text$\n",
    "2018-11-26 7:57:42.450 some text, berate=4.3456%, some more text on line 2$\n"
   ]
  },
  {
   "cell_type": "code",
   "execution_count": 2,
   "metadata": {},
   "outputs": [
    {
     "data": {
      "text/html": [
       "<div>\n",
       "<style scoped>\n",
       "    .dataframe tbody tr th:only-of-type {\n",
       "        vertical-align: middle;\n",
       "    }\n",
       "\n",
       "    .dataframe tbody tr th {\n",
       "        vertical-align: top;\n",
       "    }\n",
       "\n",
       "    .dataframe thead th {\n",
       "        text-align: right;\n",
       "    }\n",
       "</style>\n",
       "<table border=\"1\" class=\"dataframe\">\n",
       "  <thead>\n",
       "    <tr style=\"text-align: right;\">\n",
       "      <th></th>\n",
       "      <th>date</th>\n",
       "      <th>time</th>\n",
       "      <th>berate</th>\n",
       "    </tr>\n",
       "  </thead>\n",
       "  <tbody>\n",
       "  </tbody>\n",
       "</table>\n",
       "</div>"
      ],
      "text/plain": [
       "Empty DataFrame\n",
       "Columns: [date, time, berate]\n",
       "Index: []"
      ]
     },
     "execution_count": 2,
     "metadata": {},
     "output_type": "execute_result"
    }
   ],
   "source": [
    "train=pd.DataFrame(columns=('date', 'time', 'berate'))\n",
    "\n",
    "train\n",
    "\n"
   ]
  },
  {
   "cell_type": "code",
   "execution_count": null,
   "metadata": {},
   "outputs": [],
   "source": [
    "with open(\"tacticalrisk.log\", \"r\") as infile:\n",
    "    for line in infile:\n",
    "        words=line.split(\",\")\n",
    "        #print(words)\n",
    "        datetime=words[0]\n",
    "        #print(datetime)\n",
    "        #print(datetime.split(\" \",2))\n",
    "        idate, itime, gibberish=datetime.split(\" \",2)\n",
    "        beratetext=words[1]\n",
    "        tt, beratep=beratetext.split(\"=\")\n",
    "        berate, tt2=beratep.split(\"%\")\n",
    "        #print(idate, itime, berate)\n",
    "        df2=pd.DataFrame([[idate, itime, float(berate)]], columns=('date', 'time', 'berate'))\n",
    "        #print(\"created df2\")\n",
    "        #train.append(df2)\n",
    "        #print(\"processed line\")\n",
    "        train=pd.concat([train, df2])\n",
    "        #print(\"Done\")\n",
    "        \n",
    "#print(\"done file\")\n",
    "train"
   ]
  },
  {
   "cell_type": "code",
   "execution_count": 3,
   "metadata": {},
   "outputs": [
    {
     "data": {
      "text/html": [
       "<div>\n",
       "<style scoped>\n",
       "    .dataframe tbody tr th:only-of-type {\n",
       "        vertical-align: middle;\n",
       "    }\n",
       "\n",
       "    .dataframe tbody tr th {\n",
       "        vertical-align: top;\n",
       "    }\n",
       "\n",
       "    .dataframe thead th {\n",
       "        text-align: right;\n",
       "    }\n",
       "</style>\n",
       "<table border=\"1\" class=\"dataframe\">\n",
       "  <thead>\n",
       "    <tr style=\"text-align: right;\">\n",
       "      <th></th>\n",
       "      <th>date</th>\n",
       "      <th>time</th>\n",
       "      <th>berate</th>\n",
       "    </tr>\n",
       "  </thead>\n",
       "  <tbody>\n",
       "    <tr>\n",
       "      <th>0</th>\n",
       "      <td>2018-11-26</td>\n",
       "      <td>7:57:42.300</td>\n",
       "      <td>2.3456</td>\n",
       "    </tr>\n",
       "    <tr>\n",
       "      <th>0</th>\n",
       "      <td>2018-11-26</td>\n",
       "      <td>7:57:42.450</td>\n",
       "      <td>4.3456</td>\n",
       "    </tr>\n",
       "    <tr>\n",
       "      <th>0</th>\n",
       "      <td>2018-11-26</td>\n",
       "      <td>7:58:42.450</td>\n",
       "      <td>1.3456</td>\n",
       "    </tr>\n",
       "  </tbody>\n",
       "</table>\n",
       "</div>"
      ],
      "text/plain": [
       "         date         time  berate\n",
       "0  2018-11-26  7:57:42.300  2.3456\n",
       "0  2018-11-26  7:57:42.450  4.3456\n",
       "0  2018-11-26  7:58:42.450  1.3456"
      ]
     },
     "execution_count": 3,
     "metadata": {},
     "output_type": "execute_result"
    }
   ],
   "source": [
    "with open(\"tacticalrisk.log\", \"r\") as infile:\n",
    "    for line in infile:\n",
    "        words=line.split(\",\")\n",
    "        datetime=words[0]\n",
    "        idate, itime, gibberish=datetime.split(\" \",2)\n",
    "        beratetext=words[1]\n",
    "        tt, beratep=beratetext.split(\"=\")\n",
    "        berate, tt2=beratep.split(\"%\")\n",
    "        df2=pd.DataFrame([[idate, itime, float(berate)]], columns=('date', 'time', 'berate'))\n",
    "        train=train.append(df2)\n",
    "\n",
    "\n",
    "train"
   ]
  },
  {
   "cell_type": "code",
   "execution_count": null,
   "metadata": {},
   "outputs": [],
   "source": [
    "with open(\"tacticalrisk.log\", \"r\") as infile:\n",
    "    for line in infile:\n",
    "        "
   ]
  },
  {
   "cell_type": "code",
   "execution_count": 4,
   "metadata": {},
   "outputs": [
    {
     "data": {
      "image/png": "[encoded data removed]",
      "text/plain": [
       "<matplotlib.figure.Figure at 0x112113d30>"
      ]
     },
     "metadata": {},
     "output_type": "display_data"
    }
   ],
   "source": [
    "lines=train.plot.line(x='time', y='berate')"
   ]
  },
  {
   "cell_type": "code",
   "execution_count": null,
   "metadata": {},
   "outputs": [],
   "source": []
  }
 ],
 "metadata": {
  "kernelspec": {
   "display_name": "Python 3",
   "language": "python",
   "name": "python3"
  },
  "language_info": {
   "codemirror_mode": {
    "name": "ipython",
    "version": 3
   },
   "file_extension": ".py",
   "mimetype": "text/x-python",
   "name": "python",
   "nbconvert_exporter": "python",
   "pygments_lexer": "ipython3",
   "version": "3.6.4"
  }
 },
 "nbformat": 4,
 "nbformat_minor": 2
}
